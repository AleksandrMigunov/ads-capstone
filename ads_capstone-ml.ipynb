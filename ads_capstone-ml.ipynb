{
 "cells": [
  {
   "cell_type": "markdown",
   "id": "18a8f87f",
   "metadata": {
    "pycharm": {
     "name": "#%% md\n"
    }
   },
   "source": [
    "<h1>Advance Data Science Capstone Project</h1>"
   ]
  },
  {
   "cell_type": "markdown",
   "id": "9b23b575",
   "metadata": {
    "pycharm": {
     "name": "#%% md\n"
    }
   },
   "source": [
    "<h1>Vaccination against COVID vs. New Cases of COVID</h1>\n",
    "<h2>(Machine Learning)</h2>\n",
    "\n",
    "Here I am going to develop models of the progress of vaccination and full vaccination in the world. "
   ]
  },
  {
   "cell_type": "markdown",
   "id": "ed9f443e",
   "metadata": {
    "pycharm": {
     "name": "#%% md\n"
    }
   },
   "source": [
    "Here I am going to develop models of the progress of vaccination and full vaccination in the world. "
   ]
  },
  {
   "cell_type": "code",
   "execution_count": 1,
   "id": "29f56e79",
   "metadata": {
    "pycharm": {
     "name": "#%%\n"
    }
   },
   "outputs": [],
   "source": [
    "#importing libraries\n",
    "import pandas as pd\n",
    "import numpy as np\n",
    "import matplotlib.pyplot as plt\n",
    "import seaborn as sns\n",
    "import scipy.stats\n",
    "%matplotlib inline\n",
    "from sklearn import linear_model\n",
    "from sklearn.metrics import r2_score\n",
    "from sklearn import metrics\n",
    "from sklearn.preprocessing import PolynomialFeatures"
   ]
  },
  {
   "cell_type": "code",
   "execution_count": 2,
   "id": "4f5802f9",
   "metadata": {
    "pycharm": {
     "name": "#%%\n"
    }
   },
   "outputs": [],
   "source": [
    "#reading datasets which was created in the previous notebook\n",
    "df_world1 = pd.read_csv(\"covid-data-world-vaccination.csv\")\n",
    "df_world2 = pd.read_csv(\"covid-data-world-full-vaccination.csv\")\n",
    "df_world3 = pd.read_csv(\"covid-data-world-revaccination.csv\")\n",
    "df_world1 = df_world1[['location','date','total_cases','new_cases','total_deaths','new_deaths',\n",
    "                     'total_vaccinations','people_vaccinated','people_fully_vaccinated',\n",
    "                     'total_boosters','new_vaccinations','population']]\n",
    "df_world2 = df_world2[['location','date','total_cases','new_cases','total_deaths','new_deaths',\n",
    "                     'total_vaccinations','people_vaccinated','people_fully_vaccinated',\n",
    "                     'total_boosters','new_vaccinations','population']]\n",
    "df_world3 = df_world3[['location','date','total_cases','new_cases','total_deaths','new_deaths',\n",
    "                     'total_vaccinations','people_vaccinated','people_fully_vaccinated',\n",
    "                     'total_boosters','new_vaccinations','population']]"
   ]
  },
  {
   "cell_type": "code",
   "execution_count": 3,
   "id": "8811178c",
   "metadata": {
    "pycharm": {
     "name": "#%%\n"
    }
   },
   "outputs": [
    {
     "data": {
      "text/html": [
       "<div>\n",
       "<style scoped>\n",
       "    .dataframe tbody tr th:only-of-type {\n",
       "        vertical-align: middle;\n",
       "    }\n",
       "\n",
       "    .dataframe tbody tr th {\n",
       "        vertical-align: top;\n",
       "    }\n",
       "\n",
       "    .dataframe thead th {\n",
       "        text-align: right;\n",
       "    }\n",
       "</style>\n",
       "<table border=\"1\" class=\"dataframe\">\n",
       "  <thead>\n",
       "    <tr style=\"text-align: right;\">\n",
       "      <th></th>\n",
       "      <th>location</th>\n",
       "      <th>date</th>\n",
       "      <th>total_cases</th>\n",
       "      <th>new_cases</th>\n",
       "      <th>total_deaths</th>\n",
       "      <th>new_deaths</th>\n",
       "      <th>total_vaccinations</th>\n",
       "      <th>people_vaccinated</th>\n",
       "      <th>people_fully_vaccinated</th>\n",
       "      <th>total_boosters</th>\n",
       "      <th>new_vaccinations</th>\n",
       "      <th>population</th>\n",
       "    </tr>\n",
       "  </thead>\n",
       "  <tbody>\n",
       "    <tr>\n",
       "      <th>0</th>\n",
       "      <td>World</td>\n",
       "      <td>2020-12-01</td>\n",
       "      <td>64070445.0</td>\n",
       "      <td>621019.0</td>\n",
       "      <td>1538151.0</td>\n",
       "      <td>12723.0</td>\n",
       "      <td>0.0</td>\n",
       "      <td>1.0</td>\n",
       "      <td>0.0</td>\n",
       "      <td>0.0</td>\n",
       "      <td>0.0</td>\n",
       "      <td>7.874966e+09</td>\n",
       "    </tr>\n",
       "    <tr>\n",
       "      <th>1</th>\n",
       "      <td>World</td>\n",
       "      <td>2020-12-02</td>\n",
       "      <td>64724036.0</td>\n",
       "      <td>653591.0</td>\n",
       "      <td>1550814.0</td>\n",
       "      <td>12663.0</td>\n",
       "      <td>0.0</td>\n",
       "      <td>1.0</td>\n",
       "      <td>0.0</td>\n",
       "      <td>0.0</td>\n",
       "      <td>0.0</td>\n",
       "      <td>7.874966e+09</td>\n",
       "    </tr>\n",
       "    <tr>\n",
       "      <th>2</th>\n",
       "      <td>World</td>\n",
       "      <td>2020-12-03</td>\n",
       "      <td>65420332.0</td>\n",
       "      <td>696296.0</td>\n",
       "      <td>1563393.0</td>\n",
       "      <td>12579.0</td>\n",
       "      <td>0.0</td>\n",
       "      <td>1.0</td>\n",
       "      <td>0.0</td>\n",
       "      <td>0.0</td>\n",
       "      <td>0.0</td>\n",
       "      <td>7.874966e+09</td>\n",
       "    </tr>\n",
       "    <tr>\n",
       "      <th>3</th>\n",
       "      <td>World</td>\n",
       "      <td>2020-12-04</td>\n",
       "      <td>66108917.0</td>\n",
       "      <td>688585.0</td>\n",
       "      <td>1575836.0</td>\n",
       "      <td>12443.0</td>\n",
       "      <td>1.0</td>\n",
       "      <td>2.0</td>\n",
       "      <td>0.0</td>\n",
       "      <td>0.0</td>\n",
       "      <td>1.0</td>\n",
       "      <td>7.874966e+09</td>\n",
       "    </tr>\n",
       "    <tr>\n",
       "      <th>4</th>\n",
       "      <td>World</td>\n",
       "      <td>2020-12-05</td>\n",
       "      <td>66755295.0</td>\n",
       "      <td>646378.0</td>\n",
       "      <td>1586163.0</td>\n",
       "      <td>10327.0</td>\n",
       "      <td>1.0</td>\n",
       "      <td>2.0</td>\n",
       "      <td>0.0</td>\n",
       "      <td>0.0</td>\n",
       "      <td>0.0</td>\n",
       "      <td>7.874966e+09</td>\n",
       "    </tr>\n",
       "  </tbody>\n",
       "</table>\n",
       "</div>"
      ],
      "text/plain": [
       "  location        date  total_cases  new_cases  total_deaths  new_deaths  \\\n",
       "0    World  2020-12-01   64070445.0   621019.0     1538151.0     12723.0   \n",
       "1    World  2020-12-02   64724036.0   653591.0     1550814.0     12663.0   \n",
       "2    World  2020-12-03   65420332.0   696296.0     1563393.0     12579.0   \n",
       "3    World  2020-12-04   66108917.0   688585.0     1575836.0     12443.0   \n",
       "4    World  2020-12-05   66755295.0   646378.0     1586163.0     10327.0   \n",
       "\n",
       "   total_vaccinations  people_vaccinated  people_fully_vaccinated  \\\n",
       "0                 0.0                1.0                      0.0   \n",
       "1                 0.0                1.0                      0.0   \n",
       "2                 0.0                1.0                      0.0   \n",
       "3                 1.0                2.0                      0.0   \n",
       "4                 1.0                2.0                      0.0   \n",
       "\n",
       "   total_boosters  new_vaccinations    population  \n",
       "0             0.0               0.0  7.874966e+09  \n",
       "1             0.0               0.0  7.874966e+09  \n",
       "2             0.0               0.0  7.874966e+09  \n",
       "3             0.0               1.0  7.874966e+09  \n",
       "4             0.0               0.0  7.874966e+09  "
      ]
     },
     "execution_count": 3,
     "metadata": {},
     "output_type": "execute_result"
    }
   ],
   "source": [
    "df_world1.head()"
   ]
  },
  {
   "cell_type": "markdown",
   "id": "eb399a3c",
   "metadata": {
    "pycharm": {
     "name": "#%% md\n"
    }
   },
   "source": []
  },
  {
   "cell_type": "markdown",
   "id": "5f7f353d",
   "metadata": {
    "pycharm": {
     "name": "#%% md\n"
    }
   },
   "source": [
    "<h2>Feature Engineering</h2>"
   ]
  },
  {
   "cell_type": "markdown",
   "id": "f6cd68ee",
   "metadata": {
    "pycharm": {
     "name": "#%% md\n"
    }
   },
   "source": [
    "For machine training, dates need to be transformed into date_delta."
   ]
  },
  {
   "cell_type": "code",
   "execution_count": 4,
   "id": "6e2b3238",
   "metadata": {
    "pycharm": {
     "name": "#%%\n"
    }
   },
   "outputs": [
    {
     "name": "stderr",
     "output_type": "stream",
     "text": [
      "/home/alexandr/.local/lib/python3.6/site-packages/ipykernel_launcher.py:2: SettingWithCopyWarning: \n",
      "A value is trying to be set on a copy of a slice from a DataFrame.\n",
      "Try using .loc[row_indexer,col_indexer] = value instead\n",
      "\n",
      "See the caveats in the documentation: https://pandas.pydata.org/pandas-docs/stable/user_guide/indexing.html#returning-a-view-versus-a-copy\n",
      "  \n",
      "/home/alexandr/.local/lib/python3.6/site-packages/ipykernel_launcher.py:3: SettingWithCopyWarning: \n",
      "A value is trying to be set on a copy of a slice from a DataFrame.\n",
      "Try using .loc[row_indexer,col_indexer] = value instead\n",
      "\n",
      "See the caveats in the documentation: https://pandas.pydata.org/pandas-docs/stable/user_guide/indexing.html#returning-a-view-versus-a-copy\n",
      "  This is separate from the ipykernel package so we can avoid doing imports until\n"
     ]
    },
    {
     "data": {
      "text/html": [
       "<div>\n",
       "<style scoped>\n",
       "    .dataframe tbody tr th:only-of-type {\n",
       "        vertical-align: middle;\n",
       "    }\n",
       "\n",
       "    .dataframe tbody tr th {\n",
       "        vertical-align: top;\n",
       "    }\n",
       "\n",
       "    .dataframe thead th {\n",
       "        text-align: right;\n",
       "    }\n",
       "</style>\n",
       "<table border=\"1\" class=\"dataframe\">\n",
       "  <thead>\n",
       "    <tr style=\"text-align: right;\">\n",
       "      <th></th>\n",
       "      <th>people_vaccinated</th>\n",
       "      <th>date</th>\n",
       "      <th>date_s</th>\n",
       "      <th>date_delta</th>\n",
       "    </tr>\n",
       "  </thead>\n",
       "  <tbody>\n",
       "    <tr>\n",
       "      <th>405</th>\n",
       "      <td>4.670830e+09</td>\n",
       "      <td>2022-01-10</td>\n",
       "      <td>2022-01-10</td>\n",
       "      <td>405.0</td>\n",
       "    </tr>\n",
       "    <tr>\n",
       "      <th>406</th>\n",
       "      <td>4.679829e+09</td>\n",
       "      <td>2022-01-11</td>\n",
       "      <td>2022-01-11</td>\n",
       "      <td>406.0</td>\n",
       "    </tr>\n",
       "    <tr>\n",
       "      <th>407</th>\n",
       "      <td>4.691776e+09</td>\n",
       "      <td>2022-01-12</td>\n",
       "      <td>2022-01-12</td>\n",
       "      <td>407.0</td>\n",
       "    </tr>\n",
       "    <tr>\n",
       "      <th>408</th>\n",
       "      <td>4.699017e+09</td>\n",
       "      <td>2022-01-13</td>\n",
       "      <td>2022-01-13</td>\n",
       "      <td>408.0</td>\n",
       "    </tr>\n",
       "    <tr>\n",
       "      <th>409</th>\n",
       "      <td>4.702962e+09</td>\n",
       "      <td>2022-01-14</td>\n",
       "      <td>2022-01-14</td>\n",
       "      <td>409.0</td>\n",
       "    </tr>\n",
       "  </tbody>\n",
       "</table>\n",
       "</div>"
      ],
      "text/plain": [
       "     people_vaccinated        date     date_s  date_delta\n",
       "405       4.670830e+09  2022-01-10 2022-01-10       405.0\n",
       "406       4.679829e+09  2022-01-11 2022-01-11       406.0\n",
       "407       4.691776e+09  2022-01-12 2022-01-12       407.0\n",
       "408       4.699017e+09  2022-01-13 2022-01-13       408.0\n",
       "409       4.702962e+09  2022-01-14 2022-01-14       409.0"
      ]
     },
     "execution_count": 4,
     "metadata": {},
     "output_type": "execute_result"
    }
   ],
   "source": [
    "df_world1_ml = df_world1[['people_vaccinated','date']]\n",
    "df_world1_ml['date_s'] = pd.to_datetime(df_world1_ml['date'])\n",
    "df_world1_ml['date_delta'] = (df_world1_ml['date_s'] - df_world1_ml['date_s'].min())  / np.timedelta64(1,'D')\n",
    "df_world1_ml.tail()"
   ]
  },
  {
   "cell_type": "code",
   "execution_count": 5,
   "id": "871c55ba",
   "metadata": {
    "pycharm": {
     "name": "#%%\n"
    }
   },
   "outputs": [
    {
     "name": "stdout",
     "output_type": "stream",
     "text": [
      "<class 'pandas.core.frame.DataFrame'>\n",
      "RangeIndex: 410 entries, 0 to 409\n",
      "Data columns (total 4 columns):\n",
      " #   Column             Non-Null Count  Dtype         \n",
      "---  ------             --------------  -----         \n",
      " 0   people_vaccinated  410 non-null    float64       \n",
      " 1   date               410 non-null    object        \n",
      " 2   date_s             410 non-null    datetime64[ns]\n",
      " 3   date_delta         410 non-null    float64       \n",
      "dtypes: datetime64[ns](1), float64(2), object(1)\n",
      "memory usage: 12.9+ KB\n"
     ]
    }
   ],
   "source": [
    "df_world1_ml.info()"
   ]
  },
  {
   "cell_type": "code",
   "execution_count": 6,
   "id": "f7cd68c7",
   "metadata": {
    "pycharm": {
     "name": "#%%\n"
    }
   },
   "outputs": [
    {
     "data": {
      "image/png": "[encoded data removed]",
      "text/plain": [
       "<Figure size 432x288 with 1 Axes>"
      ]
     },
     "metadata": {
      "needs_background": "light"
     },
     "output_type": "display_data"
    }
   ],
   "source": [
    "plt.plot(df_world1_ml['date_delta'], df_world1_ml['people_vaccinated'])\n",
    "plt.xlabel(\"days of vaccination\")\n",
    "plt.ylabel(\"people vaccinated\")\n",
    "plt.title(\"vaccination against Covid in the world\")\n",
    "plt.show()"
   ]
  },
  {
   "cell_type": "markdown",
   "id": "176afb7a",
   "metadata": {
    "pycharm": {
     "name": "#%% md\n"
    }
   },
   "source": []
  },
  {
   "cell_type": "code",
   "execution_count": 7,
   "id": "7ee87490",
   "metadata": {
    "pycharm": {
     "name": "#%%\n"
    }
   },
   "outputs": [
    {
     "name": "stderr",
     "output_type": "stream",
     "text": [
      "/home/alexandr/.local/lib/python3.6/site-packages/ipykernel_launcher.py:2: SettingWithCopyWarning: \n",
      "A value is trying to be set on a copy of a slice from a DataFrame.\n",
      "Try using .loc[row_indexer,col_indexer] = value instead\n",
      "\n",
      "See the caveats in the documentation: https://pandas.pydata.org/pandas-docs/stable/user_guide/indexing.html#returning-a-view-versus-a-copy\n",
      "  \n",
      "/home/alexandr/.local/lib/python3.6/site-packages/ipykernel_launcher.py:3: SettingWithCopyWarning: \n",
      "A value is trying to be set on a copy of a slice from a DataFrame.\n",
      "Try using .loc[row_indexer,col_indexer] = value instead\n",
      "\n",
      "See the caveats in the documentation: https://pandas.pydata.org/pandas-docs/stable/user_guide/indexing.html#returning-a-view-versus-a-copy\n",
      "  This is separate from the ipykernel package so we can avoid doing imports until\n"
     ]
    },
    {
     "data": {
      "text/html": [
       "<div>\n",
       "<style scoped>\n",
       "    .dataframe tbody tr th:only-of-type {\n",
       "        vertical-align: middle;\n",
       "    }\n",
       "\n",
       "    .dataframe tbody tr th {\n",
       "        vertical-align: top;\n",
       "    }\n",
       "\n",
       "    .dataframe thead th {\n",
       "        text-align: right;\n",
       "    }\n",
       "</style>\n",
       "<table border=\"1\" class=\"dataframe\">\n",
       "  <thead>\n",
       "    <tr style=\"text-align: right;\">\n",
       "      <th></th>\n",
       "      <th>people_fully_vaccinated</th>\n",
       "      <th>date</th>\n",
       "      <th>date_s</th>\n",
       "      <th>date_delta</th>\n",
       "    </tr>\n",
       "  </thead>\n",
       "  <tbody>\n",
       "    <tr>\n",
       "      <th>393</th>\n",
       "      <td>3.980857e+09</td>\n",
       "      <td>2022-01-10</td>\n",
       "      <td>2022-01-10</td>\n",
       "      <td>393.0</td>\n",
       "    </tr>\n",
       "    <tr>\n",
       "      <th>394</th>\n",
       "      <td>3.990695e+09</td>\n",
       "      <td>2022-01-11</td>\n",
       "      <td>2022-01-11</td>\n",
       "      <td>394.0</td>\n",
       "    </tr>\n",
       "    <tr>\n",
       "      <th>395</th>\n",
       "      <td>3.999698e+09</td>\n",
       "      <td>2022-01-12</td>\n",
       "      <td>2022-01-12</td>\n",
       "      <td>395.0</td>\n",
       "    </tr>\n",
       "    <tr>\n",
       "      <th>396</th>\n",
       "      <td>4.007912e+09</td>\n",
       "      <td>2022-01-13</td>\n",
       "      <td>2022-01-13</td>\n",
       "      <td>396.0</td>\n",
       "    </tr>\n",
       "    <tr>\n",
       "      <th>397</th>\n",
       "      <td>4.011094e+09</td>\n",
       "      <td>2022-01-14</td>\n",
       "      <td>2022-01-14</td>\n",
       "      <td>397.0</td>\n",
       "    </tr>\n",
       "  </tbody>\n",
       "</table>\n",
       "</div>"
      ],
      "text/plain": [
       "     people_fully_vaccinated        date     date_s  date_delta\n",
       "393             3.980857e+09  2022-01-10 2022-01-10       393.0\n",
       "394             3.990695e+09  2022-01-11 2022-01-11       394.0\n",
       "395             3.999698e+09  2022-01-12 2022-01-12       395.0\n",
       "396             4.007912e+09  2022-01-13 2022-01-13       396.0\n",
       "397             4.011094e+09  2022-01-14 2022-01-14       397.0"
      ]
     },
     "execution_count": 7,
     "metadata": {},
     "output_type": "execute_result"
    }
   ],
   "source": [
    "df_world2_ml = df_world2[['people_fully_vaccinated','date']]\n",
    "df_world2_ml['date_s'] = pd.to_datetime(df_world2_ml['date'])\n",
    "df_world2_ml['date_delta'] = (df_world2_ml['date_s'] - df_world2_ml['date_s'].min())  / np.timedelta64(1,'D')\n",
    "df_world2_ml.tail()"
   ]
  },
  {
   "cell_type": "code",
   "execution_count": 8,
   "id": "31b45c85",
   "metadata": {
    "pycharm": {
     "name": "#%%\n"
    }
   },
   "outputs": [
    {
     "name": "stdout",
     "output_type": "stream",
     "text": [
      "<class 'pandas.core.frame.DataFrame'>\n",
      "RangeIndex: 398 entries, 0 to 397\n",
      "Data columns (total 4 columns):\n",
      " #   Column                   Non-Null Count  Dtype         \n",
      "---  ------                   --------------  -----         \n",
      " 0   people_fully_vaccinated  398 non-null    float64       \n",
      " 1   date                     398 non-null    object        \n",
      " 2   date_s                   398 non-null    datetime64[ns]\n",
      " 3   date_delta               398 non-null    float64       \n",
      "dtypes: datetime64[ns](1), float64(2), object(1)\n",
      "memory usage: 12.6+ KB\n"
     ]
    }
   ],
   "source": [
    "df_world2_ml.info()"
   ]
  },
  {
   "cell_type": "code",
   "execution_count": 9,
   "id": "0faeab6a",
   "metadata": {
    "pycharm": {
     "name": "#%%\n"
    }
   },
   "outputs": [
    {
     "data": {
      "image/png": "[encoded data removed]",
      "text/plain": [
       "<Figure size 432x288 with 1 Axes>"
      ]
     },
     "metadata": {
      "needs_background": "light"
     },
     "output_type": "display_data"
    }
   ],
   "source": [
    "plt.plot(df_world2_ml['date_delta'], df_world2_ml['people_fully_vaccinated'])\n",
    "plt.xlabel(\"days of full vaccination\")\n",
    "plt.ylabel(\"people fully vaccinated\")\n",
    "plt.title(\"full vaccination against Covid in the world\")\n",
    "plt.show()"
   ]
  },
  {
   "cell_type": "markdown",
   "id": "7f051522",
   "metadata": {
    "pycharm": {
     "name": "#%% md\n"
    }
   },
   "source": []
  },
  {
   "cell_type": "markdown",
   "id": "681b9888",
   "metadata": {
    "pycharm": {
     "name": "#%% md\n"
    }
   },
   "source": [
    "<h2>Models of progress of vaccination (at least, one dose)</h2>"
   ]
  },
  {
   "cell_type": "markdown",
   "id": "36a98e22",
   "metadata": {
    "pycharm": {
     "name": "#%% md\n"
    }
   },
   "source": [
    "<h3>(Model definition, training, and evaluation)</h3>"
   ]
  },
  {
   "cell_type": "markdown",
   "id": "fb7e53dc",
   "metadata": {
    "pycharm": {
     "name": "#%% md\n"
    }
   },
   "source": [
    "<h3>1. Linear regression model</h3>"
   ]
  },
  {
   "cell_type": "code",
   "execution_count": 10,
   "id": "c4628715",
   "metadata": {
    "pycharm": {
     "name": "#%%\n"
    }
   },
   "outputs": [],
   "source": [
    "model_dataset1 = np.random.rand(len(df_world1_ml)) < 0.8\n",
    "train1 = df_world1_ml[model_dataset1]\n",
    "test1 = df_world1_ml[~model_dataset1]"
   ]
  },
  {
   "cell_type": "code",
   "execution_count": 11,
   "id": "7ce8eabf",
   "metadata": {
    "pycharm": {
     "name": "#%%\n"
    }
   },
   "outputs": [
    {
     "data": {
      "image/png": "[encoded data removed]",
      "text/plain": [
       "<Figure size 432x288 with 1 Axes>"
      ]
     },
     "metadata": {
      "needs_background": "light"
     },
     "output_type": "display_data"
    }
   ],
   "source": [
    "plt.scatter(train1.date_delta, train1.people_vaccinated, color='blue')\n",
    "plt.xlabel(\"time\")\n",
    "plt.ylabel(\"people vaccinated\")\n",
    "plt.show()"
   ]
  },
  {
   "cell_type": "code",
   "execution_count": 12,
   "id": "1ec698b6",
   "metadata": {
    "pycharm": {
     "name": "#%%\n"
    }
   },
   "outputs": [
    {
     "name": "stdout",
     "output_type": "stream",
     "text": [
      "Coefficients:  [[13668647.75015634]]\n",
      "Intercept:  [-8.98120238e+08]\n"
     ]
    }
   ],
   "source": [
    "regr1 = linear_model.LinearRegression()\n",
    "train_x1 = np.asanyarray(train1[['date_delta']])\n",
    "train_y1 = np.asanyarray(train1[['people_vaccinated']])\n",
    "regr1.fit (train_x1, train_y1)\n",
    "# The coefficients\n",
    "print ('Coefficients: ', regr1.coef_)\n",
    "print ('Intercept: ',regr1.intercept_)"
   ]
  },
  {
   "cell_type": "code",
   "execution_count": 13,
   "id": "36a28403",
   "metadata": {
    "pycharm": {
     "name": "#%%\n"
    }
   },
   "outputs": [
    {
     "data": {
      "image/png": "[encoded data removed]",
      "text/plain": [
       "<Figure size 432x288 with 1 Axes>"
      ]
     },
     "metadata": {
      "needs_background": "light"
     },
     "output_type": "display_data"
    }
   ],
   "source": [
    "plt.scatter(train1.date_delta, train1.people_vaccinated,  color='blue')\n",
    "plt.plot(train_x1, regr1.coef_[0][0]*train_x1 + regr1.intercept_[0], '-r')\n",
    "plt.xlabel(\"time\")\n",
    "plt.ylabel(\"people vaccinated\")\n",
    "plt.show()"
   ]
  },
  {
   "cell_type": "code",
   "execution_count": 14,
   "id": "131dbf89",
   "metadata": {
    "pycharm": {
     "name": "#%%\n"
    }
   },
   "outputs": [
    {
     "data": {
      "text/plain": [
       "0.9566433495056386"
      ]
     },
     "execution_count": 14,
     "metadata": {},
     "output_type": "execute_result"
    }
   ],
   "source": [
    "test_x1 = np.asanyarray(test1[['date_delta']])\n",
    "test_y1 = np.asanyarray(test1[['people_vaccinated']])\n",
    "test_y_1 = regr1.predict(test_x1)\n",
    "\n",
    "metrics.r2_score(test_y1, test_y_1)"
   ]
  },
  {
   "cell_type": "markdown",
   "id": "58a3bcd2",
   "metadata": {
    "pycharm": {
     "name": "#%% md\n"
    }
   },
   "source": []
  },
  {
   "cell_type": "markdown",
   "id": "37574921",
   "metadata": {
    "pycharm": {
     "name": "#%% md\n"
    }
   },
   "source": [
    "<h3>2. Polynomial regression models</h3>"
   ]
  },
  {
   "cell_type": "markdown",
   "id": "1ccda599",
   "metadata": {
    "pycharm": {
     "name": "#%% md\n"
    }
   },
   "source": [
    "<b>2.1. Quadratic model</b>"
   ]
  },
  {
   "cell_type": "code",
   "execution_count": 15,
   "id": "e70b0ea2",
   "metadata": {
    "pycharm": {
     "name": "#%%\n"
    }
   },
   "outputs": [],
   "source": [
    "poly1_2 = PolynomialFeatures(degree=2)\n",
    "train_x_poly1_2 = poly1_2.fit_transform(train_x1)"
   ]
  },
  {
   "cell_type": "code",
   "execution_count": 16,
   "id": "c0ac3f6e",
   "metadata": {
    "pycharm": {
     "name": "#%%\n"
    }
   },
   "outputs": [
    {
     "name": "stdout",
     "output_type": "stream",
     "text": [
      "Coefficients:  [[      0.         5115078.037291     21091.49703807]]\n",
      "Intercept:  [-3.2848389e+08]\n"
     ]
    }
   ],
   "source": [
    "clf1_2 = linear_model.LinearRegression()\n",
    "train_y_1_2 = clf1_2.fit(train_x_poly1_2, train_y1)\n",
    "# The coefficients\n",
    "print ('Coefficients: ', clf1_2.coef_)\n",
    "print ('Intercept: ',clf1_2.intercept_)"
   ]
  },
  {
   "cell_type": "code",
   "execution_count": 17,
   "id": "e43297f0",
   "metadata": {
    "pycharm": {
     "name": "#%%\n"
    }
   },
   "outputs": [
    {
     "data": {
      "text/plain": [
       "Text(0, 0.5, 'people vaccinated')"
      ]
     },
     "execution_count": 17,
     "metadata": {},
     "output_type": "execute_result"
    },
    {
     "data": {
      "image/png": "[encoded data removed]",
      "text/plain": [
       "<Figure size 432x288 with 1 Axes>"
      ]
     },
     "metadata": {
      "needs_background": "light"
     },
     "output_type": "display_data"
    }
   ],
   "source": [
    "plt.scatter(train1.date_delta, train1.people_vaccinated, color='blue')\n",
    "XX = np.arange(0.0, 410.0, 0.1)\n",
    "yy = clf1_2.intercept_[0]+ clf1_2.coef_[0][1]*XX+ clf1_2.coef_[0][2]*np.power(XX, 2)\n",
    "plt.plot(XX, yy, '-r' )\n",
    "plt.xlabel(\"time\")\n",
    "plt.ylabel(\"people vaccinated\")"
   ]
  },
  {
   "cell_type": "code",
   "execution_count": 18,
   "id": "ee1cc4d0",
   "metadata": {
    "pycharm": {
     "name": "#%%\n"
    }
   },
   "outputs": [
    {
     "data": {
      "text/plain": [
       "0.9685659556864114"
      ]
     },
     "execution_count": 18,
     "metadata": {},
     "output_type": "execute_result"
    }
   ],
   "source": [
    "test_x_poly1_2 = poly1_2.fit_transform(test_x1)\n",
    "test_y_1_2 = clf1_2.predict(test_x_poly1_2)\n",
    "\n",
    "metrics.r2_score(test_y1, test_y_1_2)"
   ]
  },
  {
   "cell_type": "markdown",
   "id": "8434a0f5",
   "metadata": {
    "pycharm": {
     "name": "#%% md\n"
    }
   },
   "source": []
  },
  {
   "cell_type": "markdown",
   "id": "943c24c9",
   "metadata": {
    "pycharm": {
     "name": "#%% md\n"
    }
   },
   "source": [
    "<b>2.2. Cubic model</b>"
   ]
  },
  {
   "cell_type": "code",
   "execution_count": 19,
   "id": "3b9898bd",
   "metadata": {
    "pycharm": {
     "name": "#%%\n"
    }
   },
   "outputs": [],
   "source": [
    "poly1_3 = PolynomialFeatures(degree=3)\n",
    "train_x_poly1_3 = poly1_3.fit_transform(train_x1)"
   ]
  },
  {
   "cell_type": "code",
   "execution_count": 20,
   "id": "abe6021d",
   "metadata": {
    "pycharm": {
     "name": "#%%\n"
    }
   },
   "outputs": [
    {
     "name": "stdout",
     "output_type": "stream",
     "text": [
      "Coefficients:  [[ 0.00000000e+00 -1.21396895e+07  1.27954092e+05 -1.75530893e+02]]\n",
      "Intercept:  [2.43358012e+08]\n"
     ]
    },
    {
     "data": {
      "text/plain": [
       "0.9930832284539406"
      ]
     },
     "execution_count": 20,
     "metadata": {},
     "output_type": "execute_result"
    },
    {
     "data": {
      "image/png": "[encoded data removed]",
      "text/plain": [
       "<Figure size 432x288 with 1 Axes>"
      ]
     },
     "metadata": {
      "needs_background": "light"
     },
     "output_type": "display_data"
    }
   ],
   "source": [
    "clf1_3 = linear_model.LinearRegression()\n",
    "train_y_1_3 = clf1_3.fit(train_x_poly1_3, train_y1)\n",
    "# The coefficients\n",
    "print ('Coefficients: ', clf1_3.coef_)\n",
    "print ('Intercept: ',clf1_3.intercept_)\n",
    "\n",
    "plt.scatter(train1.date_delta, train1.people_vaccinated,  color='blue')\n",
    "XX = np.arange(0.0, 410.0, 0.1)\n",
    "yy = clf1_3.intercept_[0]+ clf1_3.coef_[0][1]*XX+ clf1_3.coef_[0][2]*np.power(XX, 2) + clf1_3.coef_[0][3]*np.power(XX, 3)\n",
    "plt.plot(XX, yy, '-r' )\n",
    "plt.xlabel(\"time\")\n",
    "plt.ylabel(\"people vaccinated\")\n",
    "\n",
    "test_x_poly1_3 = poly1_3.fit_transform(test_x1)\n",
    "test_y_1_3 = clf1_3.predict(test_x_poly1_3)\n",
    "\n",
    "metrics.r2_score(test_y1, test_y_1_3)"
   ]
  },
  {
   "cell_type": "markdown",
   "id": "67c1dc09",
   "metadata": {
    "pycharm": {
     "name": "#%% md\n"
    }
   },
   "source": []
  },
  {
   "cell_type": "markdown",
   "id": "085be686",
   "metadata": {
    "pycharm": {
     "name": "#%% md\n"
    }
   },
   "source": [
    "<h3>2.3. Degree 4 polynomial regression</h3>"
   ]
  },
  {
   "cell_type": "code",
   "execution_count": 21,
   "id": "84162cd9",
   "metadata": {
    "pycharm": {
     "name": "#%%\n"
    }
   },
   "outputs": [],
   "source": [
    "poly1_4 = PolynomialFeatures(degree=4)\n",
    "train_x_poly1_4 = poly1_4.fit_transform(train_x1)"
   ]
  },
  {
   "cell_type": "code",
   "execution_count": 22,
   "id": "bf93166c",
   "metadata": {
    "pycharm": {
     "name": "#%%\n"
    }
   },
   "outputs": [
    {
     "name": "stdout",
     "output_type": "stream",
     "text": [
      "Coefficients:  [[ 0.00000000e+00 -3.49938528e+06  3.12077254e+04  1.96639950e+02\n",
      "  -4.58772189e-01]]\n",
      "Intercept:  [72903756.40315437]\n"
     ]
    },
    {
     "data": {
      "text/plain": [
       "0.9932369492012724"
      ]
     },
     "execution_count": 22,
     "metadata": {},
     "output_type": "execute_result"
    },
    {
     "data": {
      "image/png": "[encoded data removed]",
      "text/plain": [
       "<Figure size 432x288 with 1 Axes>"
      ]
     },
     "metadata": {
      "needs_background": "light"
     },
     "output_type": "display_data"
    }
   ],
   "source": [
    "clf1_4 = linear_model.LinearRegression()\n",
    "train_y_1_4 = clf1_4.fit(train_x_poly1_4, train_y1)\n",
    "# The coefficients\n",
    "print ('Coefficients: ', clf1_4.coef_)\n",
    "print ('Intercept: ',clf1_4.intercept_)\n",
    "\n",
    "plt.scatter(train1.date_delta, train1.people_vaccinated,  color='blue')\n",
    "XX = np.arange(0.0, 410.0, 0.1)\n",
    "yy = clf1_4.intercept_[0] + clf1_4.coef_[0][1]*XX + clf1_4.coef_[0][2]*np.power(XX, 2) + \\\n",
    "    clf1_4.coef_[0][3]*np.power(XX, 3) + clf1_4.coef_[0][4]*np.power(XX, 4)\n",
    "plt.plot(XX, yy, '-r' )\n",
    "plt.xlabel(\"time\")\n",
    "plt.ylabel(\"people vaccinated\")\n",
    "\n",
    "test_x_poly1_4 = poly1_4.fit_transform(test_x1)\n",
    "test_y_1_4 = clf1_4.predict(test_x_poly1_4)\n",
    "\n",
    "metrics.r2_score(test_y1, test_y_1_4)"
   ]
  },
  {
   "cell_type": "markdown",
   "id": "a8ea50c1",
   "metadata": {
    "pycharm": {
     "name": "#%% md\n"
    }
   },
   "source": []
  },
  {
   "cell_type": "markdown",
   "id": "a438e6cd",
   "metadata": {
    "pycharm": {
     "name": "#%% md\n"
    }
   },
   "source": [
    "<h3>2.4. Degree 5 polynomial regression</h3>"
   ]
  },
  {
   "cell_type": "code",
   "execution_count": 23,
   "id": "c7005395",
   "metadata": {
    "pycharm": {
     "name": "#%%\n"
    }
   },
   "outputs": [],
   "source": [
    "poly1_5 = PolynomialFeatures(degree=5)\n",
    "train_x_poly1_5 = poly1_5.fit_transform(train_x1)"
   ]
  },
  {
   "cell_type": "code",
   "execution_count": 24,
   "id": "ef9fd23f",
   "metadata": {
    "pycharm": {
     "name": "#%%\n"
    }
   },
   "outputs": [
    {
     "name": "stdout",
     "output_type": "stream",
     "text": [
      "Coefficients:  [[ 0.00000000e+00  9.37507596e+06 -1.91797752e+05  1.66111858e+03\n",
      "  -4.50864321e+00  3.97859327e-03]]\n",
      "Intercept:  [-97052043.77145028]\n"
     ]
    },
    {
     "data": {
      "text/plain": [
       "0.9953888678140455"
      ]
     },
     "execution_count": 24,
     "metadata": {},
     "output_type": "execute_result"
    },
    {
     "data": {
      "image/png": "[encoded data removed]",
      "text/plain": [
       "<Figure size 432x288 with 1 Axes>"
      ]
     },
     "metadata": {
      "needs_background": "light"
     },
     "output_type": "display_data"
    }
   ],
   "source": [
    "clf1_5 = linear_model.LinearRegression()\n",
    "train_y_1_5 = clf1_5.fit(train_x_poly1_5, train_y1)\n",
    "# The coefficients\n",
    "print ('Coefficients: ', clf1_5.coef_)\n",
    "print ('Intercept: ',clf1_5.intercept_)\n",
    "\n",
    "plt.scatter(train1.date_delta, train1.people_vaccinated,  color='blue')\n",
    "XX = np.arange(0.0, 410.0, 0.1)\n",
    "yy = clf1_5.intercept_[0] + clf1_5.coef_[0][1]*XX + clf1_5.coef_[0][2]*np.power(XX, 2) + \\\n",
    "    clf1_5.coef_[0][3]*np.power(XX, 3) + clf1_5.coef_[0][4]*np.power(XX, 4) + clf1_5.coef_[0][5]*np.power(XX, 5)\n",
    "plt.plot(XX, yy, '-r' )\n",
    "plt.xlabel(\"time\")\n",
    "plt.ylabel(\"people vaccinated\")\n",
    "\n",
    "test_x_poly1_5 = poly1_5.fit_transform(test_x1)\n",
    "test_y_1_5 = clf1_5.predict(test_x_poly1_5)\n",
    "\n",
    "metrics.r2_score(test_y1, test_y_1_5)"
   ]
  },
  {
   "cell_type": "markdown",
   "id": "b8762685",
   "metadata": {
    "pycharm": {
     "name": "#%% md\n"
    }
   },
   "source": []
  },
  {
   "cell_type": "markdown",
   "id": "8597c379",
   "metadata": {
    "pycharm": {
     "name": "#%% md\n"
    }
   },
   "source": [
    "<h2>Models of progress of full vaccination</h2>"
   ]
  },
  {
   "cell_type": "markdown",
   "id": "563483d9",
   "metadata": {
    "pycharm": {
     "name": "#%% md\n"
    }
   },
   "source": [
    "<h3>1. Linear regression model<h3>"
   ]
  },
  {
   "cell_type": "code",
   "execution_count": 25,
   "id": "4ee2da9c",
   "metadata": {
    "pycharm": {
     "name": "#%%\n"
    }
   },
   "outputs": [],
   "source": [
    "model_dataset2 = np.random.rand(len(df_world2_ml)) < 0.8\n",
    "train2 = df_world2_ml[model_dataset2]\n",
    "test2 = df_world2_ml[~model_dataset2]"
   ]
  },
  {
   "cell_type": "code",
   "execution_count": 26,
   "id": "28564344",
   "metadata": {
    "pycharm": {
     "name": "#%%\n"
    }
   },
   "outputs": [
    {
     "data": {
      "image/png": "[encoded data removed]",
      "text/plain": [
       "<Figure size 432x288 with 1 Axes>"
      ]
     },
     "metadata": {
      "needs_background": "light"
     },
     "output_type": "display_data"
    }
   ],
   "source": [
    "plt.scatter(train2.date_delta, train2.people_fully_vaccinated, color='blue')\n",
    "plt.xlabel(\"time\")\n",
    "plt.ylabel(\"people fully vaccinated\")\n",
    "plt.show()"
   ]
  },
  {
   "cell_type": "code",
   "execution_count": 27,
   "id": "c6b4e5d1",
   "metadata": {
    "pycharm": {
     "name": "#%%\n"
    }
   },
   "outputs": [
    {
     "name": "stdout",
     "output_type": "stream",
     "text": [
      "Coefficients:  [[11380986.64508097]]\n",
      "Intercept:  [-8.8403926e+08]\n"
     ]
    }
   ],
   "source": [
    "regr2 = linear_model.LinearRegression()\n",
    "train_x2 = np.asanyarray(train2[['date_delta']])\n",
    "train_y2 = np.asanyarray(train2[['people_fully_vaccinated']])\n",
    "regr2.fit (train_x2, train_y2)\n",
    "# The coefficients\n",
    "print ('Coefficients: ', regr2.coef_)\n",
    "print ('Intercept: ',regr2.intercept_)"
   ]
  },
  {
   "cell_type": "code",
   "execution_count": 28,
   "id": "ec2a306b",
   "metadata": {
    "pycharm": {
     "name": "#%%\n"
    }
   },
   "outputs": [
    {
     "data": {
      "image/png": "[encoded data removed]",
      "text/plain": [
       "<Figure size 432x288 with 1 Axes>"
      ]
     },
     "metadata": {
      "needs_background": "light"
     },
     "output_type": "display_data"
    }
   ],
   "source": [
    "plt.scatter(train2.date_delta, train2.people_fully_vaccinated,  color='blue')\n",
    "plt.plot(train_x2, regr2.coef_[0][0]*train_x2 + regr2.intercept_[0], '-r')\n",
    "plt.xlabel(\"time\")\n",
    "plt.ylabel(\"people fully vaccinated\")\n",
    "plt.show()"
   ]
  },
  {
   "cell_type": "code",
   "execution_count": 29,
   "id": "33f5bf5a",
   "metadata": {
    "pycharm": {
     "name": "#%%\n"
    }
   },
   "outputs": [
    {
     "data": {
      "text/plain": [
       "0.871918635146577"
      ]
     },
     "execution_count": 29,
     "metadata": {},
     "output_type": "execute_result"
    }
   ],
   "source": [
    "test_x2 = np.asanyarray(test2[['date_delta']])\n",
    "test_y2 = np.asanyarray(test2[['people_fully_vaccinated']])\n",
    "test_y_2 = regr2.predict(test_x2)\n",
    "\n",
    "metrics.r2_score(test_y2, test_y_2)"
   ]
  },
  {
   "cell_type": "markdown",
   "id": "f36978b0",
   "metadata": {
    "pycharm": {
     "name": "#%% md\n"
    }
   },
   "source": []
  },
  {
   "cell_type": "markdown",
   "id": "7512f511",
   "metadata": {
    "pycharm": {
     "name": "#%% md\n"
    }
   },
   "source": [
    "<h3>2. Polynomial regression models</h3>"
   ]
  },
  {
   "cell_type": "markdown",
   "id": "5ef3aae5",
   "metadata": {
    "pycharm": {
     "name": "#%% md\n"
    }
   },
   "source": [
    "<b>2.1. Quadratic model</b>"
   ]
  },
  {
   "cell_type": "code",
   "execution_count": 30,
   "id": "da41b06e",
   "metadata": {
    "pycharm": {
     "name": "#%%\n"
    }
   },
   "outputs": [],
   "source": [
    "poly2_2 = PolynomialFeatures(degree=2)\n",
    "train_x_poly2_2 = poly2_2.fit_transform(train_x2)"
   ]
  },
  {
   "cell_type": "code",
   "execution_count": 31,
   "id": "6b113e55",
   "metadata": {
    "pycharm": {
     "name": "#%%\n"
    }
   },
   "outputs": [
    {
     "name": "stdout",
     "output_type": "stream",
     "text": [
      "Coefficients:  [[       0.         -1578381.93517368    32907.72756598]]\n",
      "Intercept:  [-49779074.07922387]\n"
     ]
    }
   ],
   "source": [
    "clf2_2 = linear_model.LinearRegression()\n",
    "train_y_2_2 = clf2_2.fit(train_x_poly2_2, train_y2)\n",
    "# The coefficients\n",
    "print ('Coefficients: ', clf2_2.coef_)\n",
    "print ('Intercept: ',clf2_2.intercept_)"
   ]
  },
  {
   "cell_type": "code",
   "execution_count": 32,
   "id": "7e2879d2",
   "metadata": {
    "pycharm": {
     "name": "#%%\n"
    }
   },
   "outputs": [
    {
     "data": {
      "text/plain": [
       "Text(0, 0.5, 'people fully vaccinated')"
      ]
     },
     "execution_count": 32,
     "metadata": {},
     "output_type": "execute_result"
    },
    {
     "data": {
      "image/png": "[encoded data removed]",
      "text/plain": [
       "<Figure size 432x288 with 1 Axes>"
      ]
     },
     "metadata": {
      "needs_background": "light"
     },
     "output_type": "display_data"
    }
   ],
   "source": [
    "plt.scatter(train2.date_delta, train2.people_fully_vaccinated,  color='blue')\n",
    "XX = np.arange(0.0, 400.0, 0.1)\n",
    "yy = clf2_2.intercept_[0]+ clf2_2.coef_[0][1]*XX+ clf2_2.coef_[0][2]*np.power(XX, 2)\n",
    "plt.plot(XX, yy, '-r' )\n",
    "plt.xlabel(\"time\")\n",
    "plt.ylabel(\"people fully vaccinated\")"
   ]
  },
  {
   "cell_type": "code",
   "execution_count": 33,
   "id": "eacb76a7",
   "metadata": {
    "pycharm": {
     "name": "#%%\n"
    }
   },
   "outputs": [
    {
     "data": {
      "text/plain": [
       "0.9709159479606457"
      ]
     },
     "execution_count": 33,
     "metadata": {},
     "output_type": "execute_result"
    }
   ],
   "source": [
    "test_x_poly2_2 = poly2_2.fit_transform(test_x2)\n",
    "test_y_2_2 = clf2_2.predict(test_x_poly2_2)\n",
    "\n",
    "metrics.r2_score(test_y2, test_y_2_2)"
   ]
  },
  {
   "cell_type": "markdown",
   "id": "c10612ab",
   "metadata": {
    "pycharm": {
     "name": "#%% md\n"
    }
   },
   "source": []
  },
  {
   "cell_type": "markdown",
   "id": "16d8bf43",
   "metadata": {
    "pycharm": {
     "name": "#%% md\n"
    }
   },
   "source": [
    "<b>2.2. Cubic model</b>"
   ]
  },
  {
   "cell_type": "code",
   "execution_count": 34,
   "id": "6e36327f",
   "metadata": {
    "pycharm": {
     "name": "#%%\n"
    }
   },
   "outputs": [],
   "source": [
    "poly2_3 = PolynomialFeatures(degree=3)\n",
    "train_x_poly2_3 = poly2_3.fit_transform(train_x2)"
   ]
  },
  {
   "cell_type": "code",
   "execution_count": 35,
   "id": "d54b8929",
   "metadata": {
    "pycharm": {
     "name": "#%%\n"
    }
   },
   "outputs": [
    {
     "name": "stdout",
     "output_type": "stream",
     "text": [
      "Coefficients:  [[ 0.00000000e+00 -1.10463082e+07  9.31228267e+04 -1.01778474e+02]]\n",
      "Intercept:  [2.54577147e+08]\n"
     ]
    },
    {
     "data": {
      "text/plain": [
       "0.9767013960923538"
      ]
     },
     "execution_count": 35,
     "metadata": {},
     "output_type": "execute_result"
    },
    {
     "data": {
      "image/png": "[encoded data removed]",
      "text/plain": [
       "<Figure size 432x288 with 1 Axes>"
      ]
     },
     "metadata": {
      "needs_background": "light"
     },
     "output_type": "display_data"
    }
   ],
   "source": [
    "clf2_3 = linear_model.LinearRegression()\n",
    "train_y_2_3 = clf2_3.fit(train_x_poly2_3, train_y2)\n",
    "# The coefficients\n",
    "print ('Coefficients: ', clf2_3.coef_)\n",
    "print ('Intercept: ',clf2_3.intercept_)\n",
    "\n",
    "plt.scatter(train2.date_delta, train2.people_fully_vaccinated,  color='blue')\n",
    "XX = np.arange(0.0, 400.0, 0.1)\n",
    "yy = clf2_3.intercept_[0]+ clf2_3.coef_[0][1]*XX + clf2_3.coef_[0][2]*np.power(XX, 2) + clf2_3.coef_[0][3]*np.power(XX, 3)\n",
    "plt.plot(XX, yy, '-r' )\n",
    "plt.xlabel(\"time\")\n",
    "plt.ylabel(\"people fully vaccinated\")\n",
    "\n",
    "test_x_poly2_3 = poly2_3.fit_transform(test_x2)\n",
    "test_y_2_3 = clf2_3.predict(test_x_poly2_3)\n",
    "\n",
    "metrics.r2_score(test_y2, test_y_2_3)"
   ]
  },
  {
   "cell_type": "markdown",
   "id": "280dabc6",
   "metadata": {
    "pycharm": {
     "name": "#%% md\n"
    }
   },
   "source": []
  },
  {
   "cell_type": "markdown",
   "id": "273cd66f",
   "metadata": {
    "pycharm": {
     "name": "#%% md\n"
    }
   },
   "source": [
    "<h3>2.3. Degree 4 polynomial regression</h3>"
   ]
  },
  {
   "cell_type": "code",
   "execution_count": 36,
   "id": "71516607",
   "metadata": {
    "pycharm": {
     "name": "#%%\n"
    }
   },
   "outputs": [],
   "source": [
    "poly2_4 = PolynomialFeatures(degree=4)\n",
    "train_x_poly2_4 = poly2_4.fit_transform(train_x2)"
   ]
  },
  {
   "cell_type": "code",
   "execution_count": 37,
   "id": "199fe0eb",
   "metadata": {
    "pycharm": {
     "name": "#%%\n"
    }
   },
   "outputs": [
    {
     "name": "stdout",
     "output_type": "stream",
     "text": [
      "Coefficients:  [[ 0.00000000e+00  6.43787106e+06 -1.09883242e+05  7.00711330e+02\n",
      "  -1.01413911e+00]]\n",
      "Intercept:  [-68637833.89650774]\n"
     ]
    },
    {
     "data": {
      "text/plain": [
       "0.9862846964135377"
      ]
     },
     "execution_count": 37,
     "metadata": {},
     "output_type": "execute_result"
    },
    {
     "data": {
      "image/png": "[encoded data removed]",
      "text/plain": [
       "<Figure size 432x288 with 1 Axes>"
      ]
     },
     "metadata": {
      "needs_background": "light"
     },
     "output_type": "display_data"
    }
   ],
   "source": [
    "clf2_4 = linear_model.LinearRegression()\n",
    "train_y_2_4 = clf2_4.fit(train_x_poly2_4, train_y2)\n",
    "# The coefficients\n",
    "print ('Coefficients: ', clf2_4.coef_)\n",
    "print ('Intercept: ',clf2_4.intercept_)\n",
    "\n",
    "plt.scatter(train2.date_delta, train2.people_fully_vaccinated, color='blue')\n",
    "XX = np.arange(0.0, 400.0, 0.1)\n",
    "yy = clf2_4.intercept_[0] + clf2_4.coef_[0][1]*XX + clf2_4.coef_[0][2]*np.power(XX, 2) + \\\n",
    "    clf2_4.coef_[0][3]*np.power(XX, 3) + clf2_4.coef_[0][4]*np.power(XX, 4)\n",
    "plt.plot(XX, yy, '-r' )\n",
    "plt.xlabel(\"time\")\n",
    "plt.ylabel(\"people fully vaccinated\")\n",
    "\n",
    "test_x_poly2_4 = poly2_4.fit_transform(test_x2)\n",
    "test_y_2_4 = clf2_4.predict(test_x_poly2_4)\n",
    "\n",
    "metrics.r2_score(test_y2, test_y_2_4)"
   ]
  },
  {
   "cell_type": "markdown",
   "id": "25f14f84",
   "metadata": {
    "pycharm": {
     "name": "#%% md\n"
    }
   },
   "source": []
  },
  {
   "cell_type": "markdown",
   "id": "ed297273",
   "metadata": {
    "pycharm": {
     "name": "#%% md\n"
    }
   },
   "source": [
    "<h3>2.4. Degree 5 polynomial regression</h3>"
   ]
  },
  {
   "cell_type": "code",
   "execution_count": 38,
   "id": "3cbea2e6",
   "metadata": {
    "pycharm": {
     "name": "#%%\n"
    }
   },
   "outputs": [],
   "source": [
    "poly2_5 = PolynomialFeatures(degree=5)\n",
    "train_x_poly2_5 = poly2_5.fit_transform(train_x2)"
   ]
  },
  {
   "cell_type": "code",
   "execution_count": 39,
   "id": "e222aeeb",
   "metadata": {
    "pycharm": {
     "name": "#%%\n"
    }
   },
   "outputs": [
    {
     "name": "stdout",
     "output_type": "stream",
     "text": [
      "Coefficients:  [[ 0.00000000e+00  1.27107507e+07 -2.22553753e+05  1.46138627e+03\n",
      "  -3.17139578e+00  2.17145681e-03]]\n",
      "Intercept:  [-1.44661232e+08]\n"
     ]
    },
    {
     "data": {
      "text/plain": [
       "0.9858037184939299"
      ]
     },
     "execution_count": 39,
     "metadata": {},
     "output_type": "execute_result"
    },
    {
     "data": {
      "image/png": "[encoded data removed]",
      "text/plain": [
       "<Figure size 432x288 with 1 Axes>"
      ]
     },
     "metadata": {
      "needs_background": "light"
     },
     "output_type": "display_data"
    }
   ],
   "source": [
    "clf2_5 = linear_model.LinearRegression()\n",
    "train_y_2_5 = clf2_5.fit(train_x_poly2_5, train_y2)\n",
    "# The coefficients\n",
    "print ('Coefficients: ', clf2_5.coef_)\n",
    "print ('Intercept: ',clf2_5.intercept_)\n",
    "\n",
    "plt.scatter(train2.date_delta, train2.people_fully_vaccinated,  color='blue')\n",
    "XX = np.arange(0.0, 400.0, 0.1)\n",
    "yy = clf2_5.intercept_[0] + clf2_5.coef_[0][1]*XX + clf2_5.coef_[0][2]*np.power(XX, 2) + \\\n",
    "    clf2_5.coef_[0][3]*np.power(XX, 3) + clf2_5.coef_[0][4]*np.power(XX, 4) + clf2_5.coef_[0][5]*np.power(XX, 5)\n",
    "plt.plot(XX, yy, '-r' )\n",
    "plt.xlabel(\"time\")\n",
    "plt.ylabel(\"people fully vaccinated\")\n",
    "\n",
    "test_x_poly2_5 = poly2_5.fit_transform(test_x2)\n",
    "test_y_2_5 = clf2_5.predict(test_x_poly2_5)\n",
    "\n",
    "metrics.r2_score(test_y2, test_y_2_5)"
   ]
  },
  {
   "cell_type": "markdown",
   "id": "f2008f65",
   "metadata": {
    "pycharm": {
     "name": "#%% md\n"
    }
   },
   "source": []
  },
  {
   "cell_type": "markdown",
   "id": "0a9859d7",
   "metadata": {
    "pycharm": {
     "name": "#%% md\n"
    }
   },
   "source": [
    "<h2>Prognosis of completed vaccination</h2>"
   ]
  },
  {
   "cell_type": "markdown",
   "id": "fd7629f0",
   "metadata": {
    "pycharm": {
     "name": "#%% md\n"
    }
   },
   "source": [
    "<h3>1. Completion of vaccination with, at least, one dose of vaccine</h3>"
   ]
  },
  {
   "cell_type": "code",
   "execution_count": 40,
   "id": "2e609211",
   "metadata": {
    "pycharm": {
     "name": "#%%\n"
    }
   },
   "outputs": [
    {
     "data": {
      "text/plain": [
       "7874965730.0"
      ]
     },
     "execution_count": 40,
     "metadata": {},
     "output_type": "execute_result"
    }
   ],
   "source": [
    "last_date = df_world1['date'].max()\n",
    "df_date = df_world1['date']==last_date\n",
    "df_last_date = df_world1[df_date]\n",
    "last_date_index = df_last_date.index[0]\n",
    "world_population = df_last_date.loc[last_date_index,'population']\n",
    "world_population"
   ]
  },
  {
   "cell_type": "markdown",
   "id": "3f7946c9",
   "metadata": {
    "pycharm": {
     "name": "#%% md\n"
    }
   },
   "source": [
    "<b>1.1. Linear regression model</b>"
   ]
  },
  {
   "cell_type": "code",
   "execution_count": 41,
   "id": "5b4c96c3",
   "metadata": {
    "pycharm": {
     "name": "#%%\n"
    }
   },
   "outputs": [
    {
     "name": "stdout",
     "output_type": "stream",
     "text": [
      "According to the linear model vaccination will be completed in 101 days\n"
     ]
    }
   ],
   "source": [
    "#calculating when all the people will be vaccinated (according to the linear regression model)\n",
    "x_1 = (world_population + regr1.intercept_[0])/regr1.coef_[0,0]\n",
    "x_1_comp = x_1 - df_world1_ml['date_delta'].max()\n",
    "print(\"According to the linear model vaccination will be completed in %.0f\" % x_1_comp, \"days\")"
   ]
  },
  {
   "cell_type": "markdown",
   "id": "e1967955",
   "metadata": {
    "pycharm": {
     "name": "#%% md\n"
    }
   },
   "source": []
  },
  {
   "cell_type": "markdown",
   "id": "e5bafcef",
   "metadata": {
    "pycharm": {
     "name": "#%% md\n"
    }
   },
   "source": [
    "<b>1.2. Polynomial quadratic regression model</b>"
   ]
  },
  {
   "cell_type": "code",
   "execution_count": 42,
   "id": "b028a9f5",
   "metadata": {
    "pycharm": {
     "name": "#%%\n"
    }
   },
   "outputs": [
    {
     "name": "stdout",
     "output_type": "stream",
     "text": [
      "According to the quadratic model vaccination will be completed in 105 days\n"
     ]
    }
   ],
   "source": [
    "#calculating when all the people will be vaccinated (according to the polynomial quadratic regression model)\n",
    "a = clf1_2.coef_[0,2]\n",
    "b = clf1_2.coef_[0,1]\n",
    "c = clf1_2.intercept_[0] - world_population\n",
    "from math import sqrt\n",
    "D = b**2 - 4*a*c\n",
    "x_1_1 = (-b + sqrt(D))/(2*a)\n",
    "x_1_2 = (-b - sqrt(D))/(2*a)  #this root is negative, so we drop it\n",
    "x_1_1_comp = x_1_1 - df_world1_ml['date_delta'].max()\n",
    "print(\"According to the quadratic model vaccination will be completed in %.0f\" % x_1_1_comp, \"days\")"
   ]
  },
  {
   "cell_type": "markdown",
   "id": "9a1784ae",
   "metadata": {
    "pycharm": {
     "name": "#%% md\n"
    }
   },
   "source": []
  },
  {
   "cell_type": "markdown",
   "id": "664ab22b",
   "metadata": {
    "pycharm": {
     "name": "#%% md\n"
    }
   },
   "source": [
    "<b>1.3. Polynomial cubic regression model</b>"
   ]
  },
  {
   "cell_type": "code",
   "execution_count": 43,
   "id": "cc328d81",
   "metadata": {
    "pycharm": {
     "name": "#%%\n"
    }
   },
   "outputs": [
    {
     "data": {
      "text/plain": [
       "array([ 456.29826713+168.94532999j,  456.29826713-168.94532999j,\n",
       "       -183.64170917  +0.j        ])"
      ]
     },
     "execution_count": 43,
     "metadata": {},
     "output_type": "execute_result"
    }
   ],
   "source": [
    "#calculations using cubic regression model\n",
    "x_3 = clf1_3.coef_[0]\n",
    "x_3[0] = clf1_3.intercept_[0] - world_population\n",
    "x_3_tr = np.flip(x_3)\n",
    "np.roots(x_3_tr)"
   ]
  },
  {
   "cell_type": "markdown",
   "id": "955f0da6",
   "metadata": {
    "pycharm": {
     "name": "#%% md\n"
    }
   },
   "source": [
    "The cubic model has only complex and negative roots, which means that according to this model, the whole population of the world will never be vaccinated. Let's find the maximum number of people that will be vaccinated."
   ]
  },
  {
   "cell_type": "raw",
   "id": "ec70efe3",
   "metadata": {
    "pycharm": {
     "name": "#%% raw\n"
    }
   },
   "source": [
    "The function of the model is clf1_3.intercept_[0] + clf1_3.coef_[0][1]*XX + clf1_3.coef_[0][2]*np.power(XX,2) + clf1_3.coef_[0][3]*np.power(XX,3).\n",
    "Therefore its differential is clf1_3.coef_[0][1] + 2*clf1_3.coef_[0][2]*XX + 3*clf1_3.coef_[0][3]*np.power(XX,2)"
   ]
  },
  {
   "cell_type": "code",
   "execution_count": 44,
   "id": "2330b22a",
   "metadata": {
    "pycharm": {
     "name": "#%%\n"
    }
   },
   "outputs": [
    {
     "data": {
      "text/plain": [
       "array([432.69103007,  53.27885332])"
      ]
     },
     "execution_count": 44,
     "metadata": {},
     "output_type": "execute_result"
    }
   ],
   "source": [
    "x_3_dif = x_3_tr\n",
    "x_3_dif[0] = 3*x_3_dif[0]\n",
    "x_3_dif[1] = 2*x_3_dif[1]\n",
    "x_3_diff = x_3_dif[:-1]\n",
    "roots_3 = np.roots(x_3_diff)\n",
    "roots_3"
   ]
  },
  {
   "cell_type": "code",
   "execution_count": 45,
   "id": "3f9dcbaa",
   "metadata": {
    "pycharm": {
     "name": "#%%\n"
    }
   },
   "outputs": [
    {
     "name": "stdout",
     "output_type": "stream",
     "text": [
      "Maximum will be reached in: 101 days\n",
      "Maximum of people who will be vaccinated: 243358012.45899963\n",
      "Percentage of the total population: 3.0902739237571213 %\n",
      "Number of people already vaccinated: 4702962017.0\n",
      "Percentage of the total population: 59.72041248489344 %\n"
     ]
    }
   ],
   "source": [
    "day_max = roots_3[0] - df_world1_ml['date_delta'].max()\n",
    "print(\"Maximum will be reached in: %.0f\" % x_1_comp, \"days\")\n",
    "people_max = clf1_3.intercept_[0] + clf1_3.coef_[0][1]*roots_3[0] +\\\n",
    "clf1_3.coef_[0][2]*np.power(roots_3[0],2) + clf1_3.coef_[0][3]*np.power(roots_3[0],3)\n",
    "print(\"Maximum of people who will be vaccinated:\", people_max)\n",
    "print(\"Percentage of the total population:\", (people_max/world_population)*100, \"%\")\n",
    "print(\"Number of people already vaccinated:\", df_world1['people_vaccinated'].max())\n",
    "print(\"Percentage of the total population:\", (df_world1['people_vaccinated'].max()/world_population)*100, \"%\")"
   ]
  },
  {
   "cell_type": "markdown",
   "id": "97763c9c",
   "metadata": {
    "pycharm": {
     "name": "#%% md\n"
    }
   },
   "source": [
    "This result is obviously incorrect because the number of people who have been already vaccinated is much higher than this model predicts. This means that the cubic regression model for vaccination progress cannot be used for prediction when the whole population of the world will be vaccinated or when will be reached the maximum number of people vaccinated."
   ]
  },
  {
   "cell_type": "markdown",
   "id": "4d2af2e4",
   "metadata": {
    "pycharm": {
     "name": "#%% md\n"
    }
   },
   "source": []
  },
  {
   "cell_type": "markdown",
   "id": "28db08fd",
   "metadata": {
    "pycharm": {
     "name": "#%% md\n"
    }
   },
   "source": [
    "<b>1.4. Polynomial 4-degree regression model</b>"
   ]
  },
  {
   "cell_type": "code",
   "execution_count": 46,
   "id": "abc47ec5",
   "metadata": {
    "pycharm": {
     "name": "#%%\n"
    }
   },
   "outputs": [
    {
     "data": {
      "text/plain": [
       "array([ 421.93367157+131.48488628j,  421.93367157-131.48488628j,\n",
       "       -207.62256622+209.67577157j, -207.62256622-209.67577157j])"
      ]
     },
     "execution_count": 46,
     "metadata": {},
     "output_type": "execute_result"
    }
   ],
   "source": [
    "#calculations using 4-degree model\n",
    "x_4 = clf1_4.coef_[0]\n",
    "x_4[0] = clf1_4.intercept_[0] - world_population\n",
    "x_4_tr = np.flip(x_4)\n",
    "np.roots(x_4_tr)"
   ]
  },
  {
   "cell_type": "markdown",
   "id": "8cbb5a84",
   "metadata": {
    "pycharm": {
     "name": "#%% md\n"
    }
   },
   "source": [
    "This model has only complex roots."
   ]
  },
  {
   "cell_type": "raw",
   "id": "b05f4249",
   "metadata": {
    "pycharm": {
     "name": "#%% raw\n"
    }
   },
   "source": [
    "The function of the model is clf1_4.intercept_[0] + clf1_4.coef_[0][1]*XX + clf1_4.coef_[0][2]*np.power(XX,2) + clf1_4.coef_[0][3]*np.power(XX,3) + clf1_4.coef_[0][4]*np.power(XX,3).\n",
    "Therefore its differential is clf1_4.coef_[0][1] + 2*clf1_4.coef_[0][2]*XX + 3*clf1_4.coef_[0][3]*np.power(XX,2) + 4*clf1_4.coef_[0][4]*np.power(XX,3)"
   ]
  },
  {
   "cell_type": "code",
   "execution_count": 47,
   "id": "090a2dfd",
   "metadata": {
    "pycharm": {
     "name": "#%%\n"
    }
   },
   "outputs": [
    {
     "data": {
      "text/plain": [
       "array([ 0.00208053+0.j        , -0.00120846+0.00125225j,\n",
       "       -0.00120846-0.00125225j])"
      ]
     },
     "execution_count": 47,
     "metadata": {},
     "output_type": "execute_result"
    }
   ],
   "source": [
    "x_4_dif = x_4\n",
    "x_4_dif[0] = 4*x_4_dif[0]\n",
    "x_4_dif[1] = 3*x_4_dif[1]\n",
    "x_4_dif[2] = 2*x_4_dif[2]\n",
    "x_4_diff = x_4_dif[:-1]\n",
    "roots_4 = np.roots(x_4_diff)\n",
    "roots_4"
   ]
  },
  {
   "cell_type": "code",
   "execution_count": 48,
   "id": "95994a42",
   "metadata": {
    "pycharm": {
     "name": "#%%\n"
    }
   },
   "outputs": [
    {
     "data": {
      "text/plain": [
       "(-408.9979194705568+0j)"
      ]
     },
     "execution_count": 48,
     "metadata": {},
     "output_type": "execute_result"
    }
   ],
   "source": [
    "day_max_4 = roots_4[0] - df_world1_ml['date_delta'].max()\n",
    "day_max_4"
   ]
  },
  {
   "cell_type": "markdown",
   "id": "db2988a9",
   "metadata": {
    "pycharm": {
     "name": "#%% md\n"
    }
   },
   "source": [
    "All the extremums of this function were already reached. This means that this function cannot be used in order to prognose the progress of vaccination in future."
   ]
  },
  {
   "cell_type": "markdown",
   "id": "f54b45dd",
   "metadata": {
    "pycharm": {
     "name": "#%% md\n"
    }
   },
   "source": []
  },
  {
   "cell_type": "markdown",
   "id": "4dd99c0e",
   "metadata": {
    "pycharm": {
     "name": "#%% md\n"
    }
   },
   "source": [
    "<b>1.5. Polynomial 5-degree regression model</b>"
   ]
  },
  {
   "cell_type": "code",
   "execution_count": 49,
   "id": "539734cf",
   "metadata": {
    "pycharm": {
     "name": "#%%\n"
    }
   },
   "outputs": [
    {
     "data": {
      "text/plain": [
       "array([517.02425566  +0.j        , 369.12230214+171.37645632j,\n",
       "       369.12230214-171.37645632j, -61.02169822+140.27167419j,\n",
       "       -61.02169822-140.27167419j])"
      ]
     },
     "execution_count": 49,
     "metadata": {},
     "output_type": "execute_result"
    }
   ],
   "source": [
    "#calculations using 5-degree model\n",
    "x_5 = clf1_5.coef_[0]\n",
    "x_5[0] = clf1_5.intercept_[0] - world_population\n",
    "x_5_tr = np.flip(x_5)\n",
    "np.roots(x_5_tr)"
   ]
  },
  {
   "cell_type": "code",
   "execution_count": 50,
   "id": "05c159fc",
   "metadata": {
    "pycharm": {
     "name": "#%%\n"
    }
   },
   "outputs": [
    {
     "name": "stdout",
     "output_type": "stream",
     "text": [
      "According to the 5-degree model vaccination will be completed in 108 days\n"
     ]
    }
   ],
   "source": [
    "roots_5 = np.roots(x_5_tr)\n",
    "x_1_5_comp = np.real(roots_5[0]) - df_world1_ml['date_delta'].max()\n",
    "print(\"According to the 5-degree model vaccination will be completed in %.0f\" % x_1_5_comp, \"days\")"
   ]
  },
  {
   "cell_type": "markdown",
   "id": "4851687c",
   "metadata": {
    "pycharm": {
     "name": "#%% md\n"
    }
   },
   "source": []
  },
  {
   "cell_type": "markdown",
   "id": "4c380aa9",
   "metadata": {
    "pycharm": {
     "name": "#%% md\n"
    }
   },
   "source": [
    "<b>Conclusion</b>"
   ]
  },
  {
   "cell_type": "code",
   "execution_count": 51,
   "id": "33aab594",
   "metadata": {
    "pycharm": {
     "name": "#%%\n"
    }
   },
   "outputs": [
    {
     "name": "stdout",
     "output_type": "stream",
     "text": [
      "According to the linear model vaccination will be completed in 101 days\n",
      "According to the quadratic model vaccination will be completed in 105 days\n",
      "According to the 5-degree model vaccination will be completed in 108 days\n"
     ]
    }
   ],
   "source": [
    "print(\"According to the linear model vaccination will be completed in %.0f\" % x_1_comp, \"days\")\n",
    "print(\"According to the quadratic model vaccination will be completed in %.0f\" % x_1_1_comp, \"days\")\n",
    "print(\"According to the 5-degree model vaccination will be completed in %.0f\" % x_1_5_comp, \"days\")"
   ]
  },
  {
   "cell_type": "markdown",
   "id": "b3f36f98",
   "metadata": {
    "pycharm": {
     "name": "#%% md\n"
    }
   },
   "source": [
    "Therefore, these three models give similar results."
   ]
  },
  {
   "cell_type": "markdown",
   "id": "7c1bb52b",
   "metadata": {
    "pycharm": {
     "name": "#%% md\n"
    }
   },
   "source": []
  },
  {
   "cell_type": "markdown",
   "id": "7e4e2e33",
   "metadata": {
    "pycharm": {
     "name": "#%% md\n"
    }
   },
   "source": [
    "<h3>2. Completion of full vaccination</h3>"
   ]
  },
  {
   "cell_type": "markdown",
   "id": "0ddb0ad6",
   "metadata": {
    "pycharm": {
     "name": "#%% md\n"
    }
   },
   "source": [
    "<b>2.1. Linear regression model</b>"
   ]
  },
  {
   "cell_type": "code",
   "execution_count": 52,
   "id": "dda66c3f",
   "metadata": {
    "pycharm": {
     "name": "#%%\n"
    }
   },
   "outputs": [
    {
     "name": "stdout",
     "output_type": "stream",
     "text": [
      "According to the linear model full vaccination will be completed in 217 days\n"
     ]
    }
   ],
   "source": [
    "#calculating when all the people will be fully vaccinated (according to the linear regression model)\n",
    "x_2 = (world_population + regr2.intercept_[0])/regr2.coef_[0,0]\n",
    "x_2_comp = x_2 - df_world2_ml['date_delta'].max()\n",
    "print(\"According to the linear model full vaccination will be completed in %.0f\" % x_2_comp, \"days\")"
   ]
  },
  {
   "cell_type": "markdown",
   "id": "eb259116",
   "metadata": {
    "pycharm": {
     "name": "#%% md\n"
    }
   },
   "source": []
  },
  {
   "cell_type": "markdown",
   "id": "1b2ad44c",
   "metadata": {
    "pycharm": {
     "name": "#%% md\n"
    }
   },
   "source": [
    "<b>2.2. Polynomial quadratic regression model</b>"
   ]
  },
  {
   "cell_type": "code",
   "execution_count": 53,
   "id": "3fb84cae",
   "metadata": {
    "pycharm": {
     "name": "#%%\n"
    }
   },
   "outputs": [
    {
     "name": "stdout",
     "output_type": "stream",
     "text": [
      "According to the quadratic model vaccination will be completed in 118 days\n"
     ]
    }
   ],
   "source": [
    "#calculating when all the people will be vaccinated (according to the polynomial quadratic regression model)\n",
    "a = clf2_2.coef_[0,2]\n",
    "b = clf2_2.coef_[0,1]\n",
    "c = clf2_2.intercept_[0] - world_population\n",
    "from math import sqrt\n",
    "D = b**2 - 4*a*c\n",
    "x_2_1 = (-b + sqrt(D))/(2*a)\n",
    "x_2_2 = (-b - sqrt(D))/(2*a) #this root is negative, so we drop it\n",
    "x_2_1_comp = x_2_1 - df_world2_ml['date_delta'].max()\n",
    "print(\"According to the quadratic model vaccination will be completed in %.0f\" % x_2_1_comp, \"days\")"
   ]
  },
  {
   "cell_type": "markdown",
   "id": "da532bc1",
   "metadata": {
    "pycharm": {
     "name": "#%% md\n"
    }
   },
   "source": []
  },
  {
   "cell_type": "markdown",
   "id": "a080365c",
   "metadata": {
    "pycharm": {
     "name": "#%% md\n"
    }
   },
   "source": [
    "<b>2.3. Polynomial cubic regression model</b>"
   ]
  },
  {
   "cell_type": "code",
   "execution_count": 54,
   "id": "d983eb89",
   "metadata": {
    "pycharm": {
     "name": "#%%\n"
    }
   },
   "outputs": [
    {
     "data": {
      "text/plain": [
       "array([ 564.43454648+177.27483001j,  564.43454648-177.27483001j,\n",
       "       -213.91308453  +0.j        ])"
      ]
     },
     "execution_count": 54,
     "metadata": {},
     "output_type": "execute_result"
    }
   ],
   "source": [
    "#calculations using cubic model\n",
    "x_3_2 = clf2_3.coef_[0]\n",
    "x_3_2[0] = clf2_3.intercept_[0] - world_population\n",
    "x_3_2_tr = np.flip(x_3_2)\n",
    "np.roots(x_3_2_tr)"
   ]
  },
  {
   "cell_type": "markdown",
   "id": "ce160f4e",
   "metadata": {
    "pycharm": {
     "name": "#%% md\n"
    }
   },
   "source": [
    "The cubic model has only complex and negative roots, which means that according to this model, the whole population of the world will never be vaccinated. Let's find the maximum number of people that will be vaccinated."
   ]
  },
  {
   "cell_type": "raw",
   "id": "967bf3ba",
   "metadata": {
    "pycharm": {
     "name": "#%% raw\n"
    }
   },
   "source": [
    "The function of the model is clf2_3.intercept_[0] + clf2_3.coef_[0][1]*XX + clf2_3.coef_[0][2]*np.power(XX,2) + clf2_3.coef_[0][3]*np.power(XX,3).\n",
    "Therefore its differential is clf2_3.coef_[0][1] + 2*clf2_3.coef_[0][2]*XX + 3*clf2_3.coef_[0][3]*np.power(XX,2)"
   ]
  },
  {
   "cell_type": "code",
   "execution_count": 55,
   "id": "3eaf2403",
   "metadata": {
    "pycharm": {
     "name": "#%%\n"
    }
   },
   "outputs": [
    {
     "data": {
      "text/plain": [
       "array([543.39346861,  66.57720368])"
      ]
     },
     "execution_count": 55,
     "metadata": {},
     "output_type": "execute_result"
    }
   ],
   "source": [
    "x_3_2_dif = x_3_2_tr\n",
    "x_3_2_dif[0] = 3*x_3_2_dif[0]\n",
    "x_3_2_dif[1] = 2*x_3_2_dif[1]\n",
    "x_3_2_diff = x_3_2_dif[:-1]\n",
    "roots_3_2 = np.roots(x_3_2_diff)\n",
    "roots_3_2"
   ]
  },
  {
   "cell_type": "code",
   "execution_count": 56,
   "id": "192b13f5",
   "metadata": {
    "pycharm": {
     "name": "#%%\n"
    }
   },
   "outputs": [
    {
     "name": "stdout",
     "output_type": "stream",
     "text": [
      "Maximum will be reached in: 146.39346861257013 days\n",
      "Maximum of people who will be fully vaccinated: 254577147.28253174\n",
      "Percentage of the total population: 3.2327397478405504 %\n",
      "Number of people already fully vaccinated: 4011094460.0\n",
      "Percentage of the total population: 50.93475448051251 %\n"
     ]
    }
   ],
   "source": [
    "day_max = roots_3_2[0] - df_world2_ml['date_delta'].max()\n",
    "print(\"Maximum will be reached in:\", day_max, \"days\")\n",
    "people_max = clf2_3.intercept_[0] + clf2_3.coef_[0][1]*roots_3_2[0] +\\\n",
    "clf2_3.coef_[0][2]*np.power(roots_3_2[0],2) + clf2_3.coef_[0][3]*np.power(roots_3_2[0],3)\n",
    "print(\"Maximum of people who will be fully vaccinated:\", people_max)\n",
    "print(\"Percentage of the total population:\", (people_max/world_population)*100, \"%\")\n",
    "print(\"Number of people already fully vaccinated:\", df_world2['people_fully_vaccinated'].max())\n",
    "print(\"Percentage of the total population:\", (df_world2['people_fully_vaccinated'].max()/world_population)*100, \"%\")"
   ]
  },
  {
   "cell_type": "markdown",
   "id": "502d29f5",
   "metadata": {
    "pycharm": {
     "name": "#%% md\n"
    }
   },
   "source": [
    "This model cannot be used to predict the when the full vaccination is reached because it gives the maximum number of fully vaccinated people much less than it is now."
   ]
  },
  {
   "cell_type": "markdown",
   "id": "d96decdc",
   "metadata": {
    "pycharm": {
     "name": "#%% md\n"
    }
   },
   "source": []
  },
  {
   "cell_type": "markdown",
   "id": "9ba963a4",
   "metadata": {
    "pycharm": {
     "name": "#%% md\n"
    }
   },
   "source": [
    "<b>2.4. Polynomial 4-degree regression model</b>"
   ]
  },
  {
   "cell_type": "code",
   "execution_count": 57,
   "id": "d094b8a9",
   "metadata": {
    "pycharm": {
     "name": "#%%\n"
    }
   },
   "outputs": [
    {
     "data": {
      "text/plain": [
       "array([419.09517329+122.71167933j, 419.09517329-122.71167933j,\n",
       "       -73.62416131+188.82250002j, -73.62416131-188.82250002j])"
      ]
     },
     "execution_count": 57,
     "metadata": {},
     "output_type": "execute_result"
    }
   ],
   "source": [
    "x_4_2 = clf2_4.coef_[0]\n",
    "x_4_2[0] = clf2_4.intercept_[0] - world_population\n",
    "x_4_2_tr = np.flip(x_4_2)\n",
    "np.roots(x_4_2_tr)"
   ]
  },
  {
   "cell_type": "markdown",
   "id": "493e109b",
   "metadata": {
    "pycharm": {
     "name": "#%% md\n"
    }
   },
   "source": [
    "This model has only complex roots."
   ]
  },
  {
   "cell_type": "raw",
   "id": "7795f24a",
   "metadata": {
    "pycharm": {
     "name": "#%% raw\n"
    }
   },
   "source": [
    "The function of the model is clf1_4.intercept_[0] + clf1_4.coef_[0][1]*XX + clf1_4.coef_[0][2]*np.power(XX,2) + clf1_4.coef_[0][3]*np.power(XX,3) + clf1_4.coef_[0][4]*np.power(XX,3).\n",
    "Therefore its differential is clf1_4.coef_[0][1] + 2*clf1_4.coef_[0][2]*XX + 3*clf1_4.coef_[0][3]*np.power(XX,2) + 4*clf1_4.coef_[0][4]*np.power(XX,3)"
   ]
  },
  {
   "cell_type": "code",
   "execution_count": 58,
   "id": "32b476e7",
   "metadata": {
    "pycharm": {
     "name": "#%%\n"
    }
   },
   "outputs": [
    {
     "data": {
      "text/plain": [
       "array([-0.00077256+0.00310583j, -0.00077256-0.00310583j,\n",
       "        0.00215295+0.j        ])"
      ]
     },
     "execution_count": 58,
     "metadata": {},
     "output_type": "execute_result"
    }
   ],
   "source": [
    "x_4_2_dif = x_4_2\n",
    "x_4_2_dif[0] = 4*x_4_2_dif[0]\n",
    "x_4_2_dif[1] = 3*x_4_2_dif[1]\n",
    "x_4_2_dif[2] = 2*x_4_2_dif[2]\n",
    "x_4_2_diff = x_4_2_dif[:-1]\n",
    "roots_4_2 = np.roots(x_4_2_diff)\n",
    "roots_4_2"
   ]
  },
  {
   "cell_type": "markdown",
   "id": "1e2f3c4d",
   "metadata": {
    "pycharm": {
     "name": "#%% md\n"
    }
   },
   "source": [
    "All the extremums of this function were already reached. This means that this function cannot be used in order to prognose the progress of vaccination in future."
   ]
  },
  {
   "cell_type": "markdown",
   "id": "03426bc1",
   "metadata": {
    "pycharm": {
     "name": "#%% md\n"
    }
   },
   "source": []
  },
  {
   "cell_type": "markdown",
   "id": "794acdcf",
   "metadata": {
    "pycharm": {
     "name": "#%% md\n"
    }
   },
   "source": [
    "<b>2.5. Polynomial 5-degree regression model</b>"
   ]
  },
  {
   "cell_type": "code",
   "execution_count": 59,
   "id": "9abf0a2d",
   "metadata": {
    "pycharm": {
     "name": "#%%\n"
    }
   },
   "outputs": [
    {
     "data": {
      "text/plain": [
       "array([725.79772596  +0.j        , 418.24052861+156.37884527j,\n",
       "       418.24052861-156.37884527j, -50.89328334+151.43122268j,\n",
       "       -50.89328334-151.43122268j])"
      ]
     },
     "execution_count": 59,
     "metadata": {},
     "output_type": "execute_result"
    }
   ],
   "source": [
    "x_5_2 = clf2_5.coef_[0]\n",
    "x_5_2[0] = clf2_5.intercept_[0] - world_population\n",
    "x_5_2_tr = np.flip(x_5_2)\n",
    "np.roots(x_5_2_tr)"
   ]
  },
  {
   "cell_type": "code",
   "execution_count": 60,
   "id": "d7d45120",
   "metadata": {
    "pycharm": {
     "name": "#%%\n"
    }
   },
   "outputs": [
    {
     "name": "stdout",
     "output_type": "stream",
     "text": [
      "According to the 5-degree model vaccination will be completed in 329 days\n"
     ]
    }
   ],
   "source": [
    "roots_5_2 = np.roots(x_5_2_tr)\n",
    "x_2_5_comp = np.real(roots_5_2[0]) - df_world2_ml['date_delta'].max()\n",
    "print(\"According to the 5-degree model vaccination will be completed in %.0f\" % x_2_5_comp, \"days\")"
   ]
  },
  {
   "cell_type": "markdown",
   "id": "72440cff",
   "metadata": {
    "pycharm": {
     "name": "#%% md\n"
    }
   },
   "source": []
  },
  {
   "cell_type": "markdown",
   "id": "c65e1f2c",
   "metadata": {
    "pycharm": {
     "name": "#%% md\n"
    }
   },
   "source": [
    "<b>Conclusion</b>"
   ]
  },
  {
   "cell_type": "code",
   "execution_count": 61,
   "id": "0baffeb1",
   "metadata": {
    "pycharm": {
     "name": "#%%\n"
    }
   },
   "outputs": [
    {
     "name": "stdout",
     "output_type": "stream",
     "text": [
      "According to the linear model full vaccination will be completed in 217 days\n",
      "According to the quadratic model vaccination will be completed in 118 days\n",
      "According to the 5-degree model vaccination will be completed in 329 days\n"
     ]
    }
   ],
   "source": [
    "print(\"According to the linear model full vaccination will be completed in %.0f\" % x_2_comp, \"days\")\n",
    "print(\"According to the quadratic model vaccination will be completed in %.0f\" % x_2_1_comp, \"days\")\n",
    "print(\"According to the 5-degree model vaccination will be completed in %.0f\" % x_2_5_comp, \"days\")"
   ]
  },
  {
   "cell_type": "markdown",
   "id": "332df10c",
   "metadata": {
    "pycharm": {
     "name": "#%% md\n"
    }
   },
   "source": [
    "These three models give very different results. However, polynomial regression models with degrees 6 and higher cannot be used for prediction because they give either very fast growth or very fast drop after the dates from the dataset. That is, they give either too optimistic results (completion of full vaccination in less then 30 days, which is much earlier than completion of vaccination with 1 dose of vaccine and therefore is impossible) or they give too pessimistic results (fast drop of the number of new fully vaccinated people in a very short time). Therefore, these models cannot be used. LASSO and Rigde models do not give goo result either."
   ]
  },
  {
   "cell_type": "markdown",
   "id": "2a80f3b3",
   "metadata": {
    "pycharm": {
     "name": "#%% md\n"
    }
   },
   "source": [
    "The diagram of data from dataset of the full vaccination looks like this:"
   ]
  },
  {
   "cell_type": "code",
   "execution_count": 62,
   "id": "0225ee18",
   "metadata": {
    "pycharm": {
     "name": "#%%\n"
    }
   },
   "outputs": [
    {
     "data": {
      "image/png": "[encoded data removed]",
      "text/plain": [
       "<Figure size 432x288 with 1 Axes>"
      ]
     },
     "metadata": {
      "needs_background": "light"
     },
     "output_type": "display_data"
    }
   ],
   "source": [
    "plt.scatter(df_world2_ml.date_delta, df_world2_ml.people_fully_vaccinated, color='blue')\n",
    "plt.xlabel(\"days of full vaccination\")\n",
    "plt.ylabel(\"people fully vaccinated\")\n",
    "plt.show()"
   ]
  },
  {
   "cell_type": "markdown",
   "id": "39a953d4",
   "metadata": {
    "pycharm": {
     "name": "#%% md\n"
    }
   },
   "source": [
    "From this diagram, it is clear that other non-linear funtions (exponential, logarithmic, etc.) cannot be used for approximation."
   ]
  },
  {
   "cell_type": "markdown",
   "id": "c40de76a",
   "metadata": {
    "pycharm": {
     "name": "#%% md\n"
    }
   },
   "source": [
    "On the other hand, for the models for vaccination (with one dose of vaccine), the results are following:"
   ]
  },
  {
   "cell_type": "code",
   "execution_count": 63,
   "id": "d76df20d",
   "metadata": {
    "pycharm": {
     "name": "#%%\n"
    }
   },
   "outputs": [
    {
     "name": "stdout",
     "output_type": "stream",
     "text": [
      "According to the linear model vaccination will be completed in 101 days\n",
      "According to the quadratic model vaccination will be completed in 105 days\n",
      "According to the 5-degree model vaccination will be completed in 108 days\n"
     ]
    }
   ],
   "source": [
    "print(\"According to the linear model vaccination will be completed in %.0f\" % x_1_comp, \"days\")\n",
    "print(\"According to the quadratic model vaccination will be completed in %.0f\" % x_1_1_comp, \"days\")\n",
    "print(\"According to the 5-degree model vaccination will be completed in %.0f\" % x_1_5_comp, \"days\")"
   ]
  },
  {
   "cell_type": "markdown",
   "id": "da07588b",
   "metadata": {
    "pycharm": {
     "name": "#%% md\n"
    }
   },
   "source": [
    "Since most vaccines require two doses (and some require only one dose) and the interval between the two doses usually should be 14, 21, or 28 days, it can be concluded that the full vaccination should be completed about 28 days after the vaccination with one dose of vaccine."
   ]
  },
  {
   "cell_type": "markdown",
   "id": "a49c8712",
   "metadata": {
    "pycharm": {
     "name": "#%% md\n"
    }
   },
   "source": []
  },
  {
   "cell_type": "markdown",
   "id": "4d851cd0",
   "metadata": {
    "pycharm": {
     "name": "#%% md\n"
    }
   },
   "source": [
    "<h3>Conclusion</h3>"
   ]
  },
  {
   "cell_type": "markdown",
   "id": "947bd8f8",
   "metadata": {
    "pycharm": {
     "name": "#%% md\n"
    }
   },
   "source": [
    "Regression models (linear regression, and polynomial regression of degrees 2 and 5) for the completion of vaccination with, at least, one dose of vaccine, give quite close results, which are within 110 days from now. However, regression models for the completion of full vaccination give very different results. Nevertheless, since most vaccines require two doses (and some require only one dose) and the interval between the two doses usually should be 14, 21, or 28 days, it can be concluded that the full vaccination should be completed about 28 days after the vaccination with one dose of vaccine, that is, within 140 days from now."
   ]
  },
  {
   "cell_type": "markdown",
   "id": "8182655b",
   "metadata": {
    "pycharm": {
     "name": "#%% md\n"
    }
   },
   "source": []
  }
 ],
 "metadata": {
  "kernelspec": {
   "display_name": "Python 3",
   "language": "python",
   "name": "python3"
  },
  "language_info": {
   "codemirror_mode": {
    "name": "ipython",
    "version": 3
   },
   "file_extension": ".py",
   "mimetype": "text/x-python",
   "name": "python",
   "nbconvert_exporter": "python",
   "pygments_lexer": "ipython3",
   "version": "3.6.9"
  }
 },
 "nbformat": 4,
 "nbformat_minor": 5
}